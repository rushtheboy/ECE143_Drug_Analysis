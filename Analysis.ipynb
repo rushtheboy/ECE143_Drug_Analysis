{
 "cells": [
  {
   "cell_type": "code",
   "execution_count": 1,
   "metadata": {},
   "outputs": [],
   "source": [
    "import numpy as np\n",
    "import pandas as pd\n",
    "import matplotlib.pyplot as plt\n",
    "import zipfile"
   ]
  },
  {
   "cell_type": "code",
   "execution_count": 2,
   "metadata": {},
   "outputs": [],
   "source": [
    "path_to_zip = \"Data/webmd.zip\"\n",
    "with zipfile.ZipFile(path_to_zip, 'r') as zip_ref:\n",
    "    zip_ref.extractall(\"Data\")"
   ]
  },
  {
   "cell_type": "code",
   "execution_count": 3,
   "metadata": {},
   "outputs": [],
   "source": [
    "path_to_zip = \"Data/drugsComTrain_raw.zip\"\n",
    "with zipfile.ZipFile(path_to_zip, 'r') as zip_ref:\n",
    "    zip_ref.extractall(\"Data\")"
   ]
  },
  {
   "cell_type": "code",
   "execution_count": 4,
   "metadata": {},
   "outputs": [],
   "source": [
    "path_to_zip = \"Data/drugsComTest_raw.zip\"\n",
    "with zipfile.ZipFile(path_to_zip, 'r') as zip_ref:\n",
    "    zip_ref.extractall(\"Data\")"
   ]
  },
  {
   "cell_type": "markdown",
   "metadata": {},
   "source": [
    "<h2>The above unzip code in the 3 above cells extracts the zip into the Data directory. Only run them once in the beginning.\n",
    "<h3>REMEMBER NOT TO PUSH THE EXTRACTED FILE TO GITHUB. IT IS TOO BIG.\n",
    "    \n",
    "<br>Explanation: The extracted .csv is around 168Mb. Github blocks pushes above a 100Mb. So get run this part of the code on your local machine so you can have the data to work with, but after you are done with it remember to delete the .csv files and only keep the .zip files when you push to github."
   ]
  },
  {
   "cell_type": "code",
   "execution_count": 6,
   "metadata": {},
   "outputs": [],
   "source": [
    "UCIdrug_train = pd.read_csv(\"Data/drugsComTrain_raw.csv\", parse_dates=[\"date\"])"
   ]
  },
  {
   "cell_type": "code",
   "execution_count": null,
   "metadata": {},
   "outputs": [],
   "source": [
    "UCIdrug_test = pd.read_csv(\"Data/drugsComTest_raw.csv\", parse_dates=[\"date\"])"
   ]
  },
  {
   "cell_type": "code",
   "execution_count": null,
   "metadata": {},
   "outputs": [],
   "source": [
    "webmd = pd.read_csv(\"Data/webmd.csv\",parse_dates=[\"Date\"])"
   ]
  },
  {
   "cell_type": "markdown",
   "metadata": {},
   "source": [
    "Convert .csv data to pandas dataframe."
   ]
  },
  {
   "cell_type": "code",
   "execution_count": 7,
   "metadata": {},
   "outputs": [
    {
     "name": "stdout",
     "output_type": "stream",
     "text": [
      "UCI Train shape : (161297, 7)\n",
      "UCI Test shape : (53766, 7)\n",
      "Webmd shape: (362806, 12)\n"
     ]
    }
   ],
   "source": [
    "print(\"UCI Train shape :\" ,UCIdrug_train.shape)\n",
    "print(\"UCI Test shape :\", UCIdrug_test.shape)\n",
    "print(\"Webmd shape:\", webmd.shape)"
   ]
  },
  {
   "cell_type": "markdown",
   "metadata": {},
   "source": [
    "Above we check the shape of the data just to check we're doing everything correct.<br>\n",
    "As we can see the, UCI train data has 161297 rows and 7 columns.<br>\n",
    "UCI test data has 53766 rows and 7 columns.<br>\n",
    "Webmd data has 32806 rows, and 12 columns."
   ]
  },
  {
   "cell_type": "code",
   "execution_count": 8,
   "metadata": {},
   "outputs": [
    {
     "data": {
      "text/html": [
       "<div>\n",
       "<style scoped>\n",
       "    .dataframe tbody tr th:only-of-type {\n",
       "        vertical-align: middle;\n",
       "    }\n",
       "\n",
       "    .dataframe tbody tr th {\n",
       "        vertical-align: top;\n",
       "    }\n",
       "\n",
       "    .dataframe thead th {\n",
       "        text-align: right;\n",
       "    }\n",
       "</style>\n",
       "<table border=\"1\" class=\"dataframe\">\n",
       "  <thead>\n",
       "    <tr style=\"text-align: right;\">\n",
       "      <th></th>\n",
       "      <th>uniqueID</th>\n",
       "      <th>drugName</th>\n",
       "      <th>condition</th>\n",
       "      <th>review</th>\n",
       "      <th>rating</th>\n",
       "      <th>date</th>\n",
       "      <th>usefulCount</th>\n",
       "    </tr>\n",
       "  </thead>\n",
       "  <tbody>\n",
       "    <tr>\n",
       "      <th>0</th>\n",
       "      <td>206461</td>\n",
       "      <td>Valsartan</td>\n",
       "      <td>Left Ventricular Dysfunction</td>\n",
       "      <td>\"It has no side effect, I take it in combinati...</td>\n",
       "      <td>9</td>\n",
       "      <td>2012-05-20</td>\n",
       "      <td>27</td>\n",
       "    </tr>\n",
       "    <tr>\n",
       "      <th>1</th>\n",
       "      <td>95260</td>\n",
       "      <td>Guanfacine</td>\n",
       "      <td>ADHD</td>\n",
       "      <td>\"My son is halfway through his fourth week of ...</td>\n",
       "      <td>8</td>\n",
       "      <td>2010-04-27</td>\n",
       "      <td>192</td>\n",
       "    </tr>\n",
       "    <tr>\n",
       "      <th>2</th>\n",
       "      <td>92703</td>\n",
       "      <td>Lybrel</td>\n",
       "      <td>Birth Control</td>\n",
       "      <td>\"I used to take another oral contraceptive, wh...</td>\n",
       "      <td>5</td>\n",
       "      <td>2009-12-14</td>\n",
       "      <td>17</td>\n",
       "    </tr>\n",
       "    <tr>\n",
       "      <th>3</th>\n",
       "      <td>138000</td>\n",
       "      <td>Ortho Evra</td>\n",
       "      <td>Birth Control</td>\n",
       "      <td>\"This is my first time using any form of birth...</td>\n",
       "      <td>8</td>\n",
       "      <td>2015-11-03</td>\n",
       "      <td>10</td>\n",
       "    </tr>\n",
       "    <tr>\n",
       "      <th>4</th>\n",
       "      <td>35696</td>\n",
       "      <td>Buprenorphine / naloxone</td>\n",
       "      <td>Opiate Dependence</td>\n",
       "      <td>\"Suboxone has completely turned my life around...</td>\n",
       "      <td>9</td>\n",
       "      <td>2016-11-27</td>\n",
       "      <td>37</td>\n",
       "    </tr>\n",
       "  </tbody>\n",
       "</table>\n",
       "</div>"
      ],
      "text/plain": [
       "   uniqueID                  drugName                     condition  \\\n",
       "0    206461                 Valsartan  Left Ventricular Dysfunction   \n",
       "1     95260                Guanfacine                          ADHD   \n",
       "2     92703                    Lybrel                 Birth Control   \n",
       "3    138000                Ortho Evra                 Birth Control   \n",
       "4     35696  Buprenorphine / naloxone             Opiate Dependence   \n",
       "\n",
       "                                              review  rating       date  \\\n",
       "0  \"It has no side effect, I take it in combinati...       9 2012-05-20   \n",
       "1  \"My son is halfway through his fourth week of ...       8 2010-04-27   \n",
       "2  \"I used to take another oral contraceptive, wh...       5 2009-12-14   \n",
       "3  \"This is my first time using any form of birth...       8 2015-11-03   \n",
       "4  \"Suboxone has completely turned my life around...       9 2016-11-27   \n",
       "\n",
       "   usefulCount  \n",
       "0           27  \n",
       "1          192  \n",
       "2           17  \n",
       "3           10  \n",
       "4           37  "
      ]
     },
     "execution_count": 8,
     "metadata": {},
     "output_type": "execute_result"
    }
   ],
   "source": [
    "UCIdrug_train.head()"
   ]
  },
  {
   "cell_type": "markdown",
   "metadata": {},
   "source": [
    "We print the first few rows of the UCI data to get an idea of what it's about. Arguably the most important information here is drugname, condition, review, rating, and possibly useful count."
   ]
  },
  {
   "cell_type": "code",
   "execution_count": 9,
   "metadata": {
    "scrolled": true
   },
   "outputs": [
    {
     "data": {
      "text/html": [
       "<div>\n",
       "<style scoped>\n",
       "    .dataframe tbody tr th:only-of-type {\n",
       "        vertical-align: middle;\n",
       "    }\n",
       "\n",
       "    .dataframe tbody tr th {\n",
       "        vertical-align: top;\n",
       "    }\n",
       "\n",
       "    .dataframe thead th {\n",
       "        text-align: right;\n",
       "    }\n",
       "</style>\n",
       "<table border=\"1\" class=\"dataframe\">\n",
       "  <thead>\n",
       "    <tr style=\"text-align: right;\">\n",
       "      <th></th>\n",
       "      <th>Age</th>\n",
       "      <th>Condition</th>\n",
       "      <th>Date</th>\n",
       "      <th>Drug</th>\n",
       "      <th>DrugId</th>\n",
       "      <th>EaseofUse</th>\n",
       "      <th>Effectiveness</th>\n",
       "      <th>Reviews</th>\n",
       "      <th>Satisfaction</th>\n",
       "      <th>Sex</th>\n",
       "      <th>Sides</th>\n",
       "      <th>UsefulCount</th>\n",
       "    </tr>\n",
       "  </thead>\n",
       "  <tbody>\n",
       "    <tr>\n",
       "      <th>0</th>\n",
       "      <td>75 or over</td>\n",
       "      <td>Stuffy Nose</td>\n",
       "      <td>2014-09-21</td>\n",
       "      <td>25dph-7.5peh</td>\n",
       "      <td>146724</td>\n",
       "      <td>5</td>\n",
       "      <td>5</td>\n",
       "      <td>I'm a retired physician and of all the meds I ...</td>\n",
       "      <td>5</td>\n",
       "      <td>Male</td>\n",
       "      <td>Drowsiness,  dizziness ,  dry mouth /nose/thro...</td>\n",
       "      <td>0</td>\n",
       "    </tr>\n",
       "    <tr>\n",
       "      <th>1</th>\n",
       "      <td>25-34</td>\n",
       "      <td>Cold Symptoms</td>\n",
       "      <td>2011-01-13</td>\n",
       "      <td>25dph-7.5peh</td>\n",
       "      <td>146724</td>\n",
       "      <td>5</td>\n",
       "      <td>5</td>\n",
       "      <td>cleared me right up even with my throat hurtin...</td>\n",
       "      <td>5</td>\n",
       "      <td>Female</td>\n",
       "      <td>Drowsiness,  dizziness ,  dry mouth /nose/thro...</td>\n",
       "      <td>1</td>\n",
       "    </tr>\n",
       "    <tr>\n",
       "      <th>2</th>\n",
       "      <td>65-74</td>\n",
       "      <td>Other</td>\n",
       "      <td>2012-07-16</td>\n",
       "      <td>warfarin (bulk) 100 % powder</td>\n",
       "      <td>144731</td>\n",
       "      <td>2</td>\n",
       "      <td>3</td>\n",
       "      <td>why did my PTINR go from a normal of 2.5 to ov...</td>\n",
       "      <td>3</td>\n",
       "      <td>Female</td>\n",
       "      <td></td>\n",
       "      <td>0</td>\n",
       "    </tr>\n",
       "    <tr>\n",
       "      <th>3</th>\n",
       "      <td>75 or over</td>\n",
       "      <td>Other</td>\n",
       "      <td>2010-09-23</td>\n",
       "      <td>warfarin (bulk) 100 % powder</td>\n",
       "      <td>144731</td>\n",
       "      <td>2</td>\n",
       "      <td>2</td>\n",
       "      <td>FALLING AND DON'T REALISE IT</td>\n",
       "      <td>1</td>\n",
       "      <td>Female</td>\n",
       "      <td></td>\n",
       "      <td>0</td>\n",
       "    </tr>\n",
       "    <tr>\n",
       "      <th>4</th>\n",
       "      <td>35-44</td>\n",
       "      <td>Other</td>\n",
       "      <td>2009-01-06</td>\n",
       "      <td>warfarin (bulk) 100 % powder</td>\n",
       "      <td>144731</td>\n",
       "      <td>1</td>\n",
       "      <td>1</td>\n",
       "      <td>My grandfather was prescribed this medication ...</td>\n",
       "      <td>1</td>\n",
       "      <td>Male</td>\n",
       "      <td></td>\n",
       "      <td>1</td>\n",
       "    </tr>\n",
       "  </tbody>\n",
       "</table>\n",
       "</div>"
      ],
      "text/plain": [
       "          Age      Condition       Date                          Drug  DrugId  \\\n",
       "0  75 or over    Stuffy Nose 2014-09-21                  25dph-7.5peh  146724   \n",
       "1       25-34  Cold Symptoms 2011-01-13                  25dph-7.5peh  146724   \n",
       "2       65-74          Other 2012-07-16  warfarin (bulk) 100 % powder  144731   \n",
       "3  75 or over          Other 2010-09-23  warfarin (bulk) 100 % powder  144731   \n",
       "4       35-44          Other 2009-01-06  warfarin (bulk) 100 % powder  144731   \n",
       "\n",
       "   EaseofUse  Effectiveness  \\\n",
       "0          5              5   \n",
       "1          5              5   \n",
       "2          2              3   \n",
       "3          2              2   \n",
       "4          1              1   \n",
       "\n",
       "                                             Reviews  Satisfaction     Sex  \\\n",
       "0  I'm a retired physician and of all the meds I ...             5    Male   \n",
       "1  cleared me right up even with my throat hurtin...             5  Female   \n",
       "2  why did my PTINR go from a normal of 2.5 to ov...             3  Female   \n",
       "3                       FALLING AND DON'T REALISE IT             1  Female   \n",
       "4  My grandfather was prescribed this medication ...             1    Male   \n",
       "\n",
       "                                               Sides  UsefulCount  \n",
       "0  Drowsiness,  dizziness ,  dry mouth /nose/thro...            0  \n",
       "1  Drowsiness,  dizziness ,  dry mouth /nose/thro...            1  \n",
       "2                                                               0  \n",
       "3                                                               0  \n",
       "4                                                               1  "
      ]
     },
     "execution_count": 9,
     "metadata": {},
     "output_type": "execute_result"
    }
   ],
   "source": [
    "webmd.head()"
   ]
  },
  {
   "cell_type": "markdown",
   "metadata": {},
   "source": [
    "Now we print the first few rows of the webmd data to get an idea of what it's about. Arguably the most important information here is drugname, condition, review, ease of use, satisfaction, and sides. However preproccesing is required, since the drug name also comes with the form of the drug, and a lot of sides(side effects) columns are empty."
   ]
  },
  {
   "cell_type": "code",
   "execution_count": 61,
   "metadata": {},
   "outputs": [
    {
     "name": "stdout",
     "output_type": "stream",
     "text": [
      "Unique drugs in webmd:  7093\n",
      "Unique drugs in UCI Train data:  3436\n"
     ]
    }
   ],
   "source": [
    "num_unique_drug_webmd = webmd[\"Drug\"].nunique() \n",
    "print(\"Unique drugs in webmd: \", num_unique_drug_webmd)\n",
    "num_unique_drug_UCItrain = UCIdrug_train[\"drugName\"].nunique() \n",
    "print(\"Unique drugs in UCI Train data: \", num_unique_drug_UCItrain)"
   ]
  },
  {
   "cell_type": "markdown",
   "metadata": {},
   "source": [
    "Above we get the unique values in the drug column in webmd data and drugname column in the UCI train data. However, we must consider that for the webmd data, there's the same drug but in different forms, which would show up as different values. We must take care of this to find the true number of unique drugs in the webmd dataset, to the best of our ability."
   ]
  },
  {
   "cell_type": "code",
   "execution_count": 62,
   "metadata": {},
   "outputs": [
    {
     "name": "stdout",
     "output_type": "stream",
     "text": [
      "<class 'numpy.ndarray'>\n",
      "['Valsartan' 'Guanfacine' 'Lybrel' 'Ortho Evra' 'Buprenorphine / naloxone'\n",
      " 'Cialis' 'Levonorgestrel' 'Aripiprazole' 'Keppra'\n",
      " 'Ethinyl estradiol / levonorgestrel']\n",
      "['25dph-7.5peh' 'warfarin (bulk) 100 % powder' 'wymzya fe'\n",
      " '12 hour nasal relief spray, non-aerosol' 'pyrogallol crystals' 'lyza'\n",
      " 'lysiplex plus liquid' 'lysteda' 'pyrithione zinc shampoo'\n",
      " 'lysine acetate 4,000 mg oral powder packet']\n"
     ]
    }
   ],
   "source": [
    "unique_drug_webmd = webmd[\"Drug\"].unique() \n",
    "unique_drug_UCItrain = UCIdrug_train[\"drugName\"].unique() \n",
    "print(type(unique_drug_UCItrain))\n",
    "print(unique_drug_UCItrain[0:10])\n",
    "print(unique_drug_webmd[0:10])"
   ]
  },
  {
   "cell_type": "markdown",
   "metadata": {},
   "source": [
    "As we see above, to the webmd dataset has drug names as the first word, while what comes after is a description of the form of the drug. This is what we must take care of. <br>\n",
    "unique_drug_webmd contains the unique values from the drug column of webmdb. <br>\n",
    "unique_drug_UCItrain contains the unique values from the drugname column of UCI train set."
   ]
  },
  {
   "cell_type": "code",
   "execution_count": 103,
   "metadata": {},
   "outputs": [
    {
     "name": "stdout",
     "output_type": "stream",
     "text": [
      "['15dm-100gfn-5peh' '20dm-4cpm' '25dph-7.5peh' '4' '40pse-400gfn-20dm'\n",
      " '5-hydroxy-l-tryptophan' '5-hydroxytryptophan' '60pse-400gfn' '7-keto']\n",
      "\n",
      "Length of arrays with first word without removing repetition: 7093\n",
      "Length of arrays with first word without removing repetition: 4615\n",
      "Repetitions removed: 2478\n"
     ]
    }
   ],
   "source": [
    "sep = ' '\n",
    "unique_drug_webmd_names = []\n",
    "for i in unique_drug_webmd:\n",
    "    unique_drug_webmd_names.append(i.split(sep, 1)[0])\n",
    "    \n",
    "unique_drug_webmd_names = np.array(unique_drug_webmd_names)\n",
    "initial = len(unique_drug_webmd_names)\n",
    "\n",
    "unique_drug_webmd_names = np.unique(unique_drug_webmd_names)   #returns sorted unique values in numpy array\n",
    "print(unique_drug_webmd_names[1:10])\n",
    "final = len(unique_drug_webmd_names)\n",
    "\n",
    "print(\"\\nLength of arrays with first word without removing repetition:\",initial)\n",
    "print(\"Length of arrays with first word without removing repetition:\",final)\n",
    "print(\"Repetitions removed:\", initial - final)"
   ]
  },
  {
   "cell_type": "markdown",
   "metadata": {},
   "source": [
    "The above cell keeps only the first word in the unique_drug_webmd array to the unique_drug_webmd_names array. We have to check for repeats in unique_drug_webmd_names. Then, we obtain the unique elements in the unique_drug_webmd_names array. We check the new length of array and it is 4615, and we seem to have removed 2478 repetions."
   ]
  },
  {
   "cell_type": "code",
   "execution_count": 64,
   "metadata": {},
   "outputs": [
    {
     "name": "stdout",
     "output_type": "stream",
     "text": [
      "['A / B OTIC', 'ABACAVIR / DOLUTEGRAVIR / LAMIVUDINE', 'ABACAVIR / LAMIVUDINE', 'ABATACEPT', 'ABILIFY']\n",
      "['12' '15dm-100gfn-5peh' '20dm-4cpm' '25dph-7.5peh' '4']\n"
     ]
    }
   ],
   "source": [
    "unique_drug_UCItrain_upper = [word.upper() for word in unique_drug_UCItest]\n",
    "\n",
    "unique_drug_webmd_upper = [word.upper() for word in unique_drug_webmd_names]\n",
    "    \n",
    "print(unique_drug_UCItrain_upper[0:5])\n",
    "print(unique_drug_webmd_names[0:5])"
   ]
  },
  {
   "cell_type": "markdown",
   "metadata": {},
   "source": [
    "Now we want to do a comparision, to find if there are any drugs in both datasets. For this, we do not want any conflicts in the letters being uppercase or lowercase, and so we convert everything in both arrays to uppercase."
   ]
  },
  {
   "cell_type": "code",
   "execution_count": 65,
   "metadata": {},
   "outputs": [
    {
     "name": "stdout",
     "output_type": "stream",
     "text": [
      "0\n",
      "[]\n"
     ]
    }
   ],
   "source": [
    "match_count = 0\n",
    "common_drugs = []\n",
    "for i in unique_drug_UCItrain_upper:\n",
    "    if i in unique_drug_webmd_names:\n",
    "        match_count+=1\n",
    "        common_drugs.append(i)\n",
    "\n",
    "print(match_count)\n",
    "print(common_drugs[0:10])"
   ]
  },
  {
   "cell_type": "markdown",
   "metadata": {},
   "source": [
    "We have 1570 drugs that are present in both UCIdrugs train data and the webmd dataset. Few of the common drugs are printed above."
   ]
  },
  {
   "cell_type": "markdown",
   "metadata": {},
   "source": [
    "<h2> For Zhiyun and Kevin."
   ]
  },
  {
   "cell_type": "code",
   "execution_count": 66,
   "metadata": {},
   "outputs": [
    {
     "data": {
      "text/html": [
       "<div>\n",
       "<style scoped>\n",
       "    .dataframe tbody tr th:only-of-type {\n",
       "        vertical-align: middle;\n",
       "    }\n",
       "\n",
       "    .dataframe tbody tr th {\n",
       "        vertical-align: top;\n",
       "    }\n",
       "\n",
       "    .dataframe thead th {\n",
       "        text-align: right;\n",
       "    }\n",
       "</style>\n",
       "<table border=\"1\" class=\"dataframe\">\n",
       "  <thead>\n",
       "    <tr style=\"text-align: right;\">\n",
       "      <th></th>\n",
       "      <th>uniqueID</th>\n",
       "      <th>drugName</th>\n",
       "      <th>condition</th>\n",
       "      <th>review</th>\n",
       "      <th>rating</th>\n",
       "      <th>date</th>\n",
       "      <th>usefulCount</th>\n",
       "    </tr>\n",
       "  </thead>\n",
       "  <tbody>\n",
       "    <tr>\n",
       "      <th>0</th>\n",
       "      <td>206461</td>\n",
       "      <td>Valsartan</td>\n",
       "      <td>Left Ventricular Dysfunction</td>\n",
       "      <td>\"It has no side effect, I take it in combinati...</td>\n",
       "      <td>9</td>\n",
       "      <td>2012-05-20</td>\n",
       "      <td>27</td>\n",
       "    </tr>\n",
       "    <tr>\n",
       "      <th>1</th>\n",
       "      <td>95260</td>\n",
       "      <td>Guanfacine</td>\n",
       "      <td>ADHD</td>\n",
       "      <td>\"My son is halfway through his fourth week of ...</td>\n",
       "      <td>8</td>\n",
       "      <td>2010-04-27</td>\n",
       "      <td>192</td>\n",
       "    </tr>\n",
       "    <tr>\n",
       "      <th>2</th>\n",
       "      <td>92703</td>\n",
       "      <td>Lybrel</td>\n",
       "      <td>Birth Control</td>\n",
       "      <td>\"I used to take another oral contraceptive, wh...</td>\n",
       "      <td>5</td>\n",
       "      <td>2009-12-14</td>\n",
       "      <td>17</td>\n",
       "    </tr>\n",
       "    <tr>\n",
       "      <th>3</th>\n",
       "      <td>138000</td>\n",
       "      <td>Ortho Evra</td>\n",
       "      <td>Birth Control</td>\n",
       "      <td>\"This is my first time using any form of birth...</td>\n",
       "      <td>8</td>\n",
       "      <td>2015-11-03</td>\n",
       "      <td>10</td>\n",
       "    </tr>\n",
       "    <tr>\n",
       "      <th>4</th>\n",
       "      <td>35696</td>\n",
       "      <td>Buprenorphine / naloxone</td>\n",
       "      <td>Opiate Dependence</td>\n",
       "      <td>\"Suboxone has completely turned my life around...</td>\n",
       "      <td>9</td>\n",
       "      <td>2016-11-27</td>\n",
       "      <td>37</td>\n",
       "    </tr>\n",
       "  </tbody>\n",
       "</table>\n",
       "</div>"
      ],
      "text/plain": [
       "   uniqueID                  drugName                     condition  \\\n",
       "0    206461                 Valsartan  Left Ventricular Dysfunction   \n",
       "1     95260                Guanfacine                          ADHD   \n",
       "2     92703                    Lybrel                 Birth Control   \n",
       "3    138000                Ortho Evra                 Birth Control   \n",
       "4     35696  Buprenorphine / naloxone             Opiate Dependence   \n",
       "\n",
       "                                              review  rating       date  \\\n",
       "0  \"It has no side effect, I take it in combinati...       9 2012-05-20   \n",
       "1  \"My son is halfway through his fourth week of ...       8 2010-04-27   \n",
       "2  \"I used to take another oral contraceptive, wh...       5 2009-12-14   \n",
       "3  \"This is my first time using any form of birth...       8 2015-11-03   \n",
       "4  \"Suboxone has completely turned my life around...       9 2016-11-27   \n",
       "\n",
       "   usefulCount  \n",
       "0           27  \n",
       "1          192  \n",
       "2           17  \n",
       "3           10  \n",
       "4           37  "
      ]
     },
     "execution_count": 66,
     "metadata": {},
     "output_type": "execute_result"
    }
   ],
   "source": [
    "UCIdrug_train.head()"
   ]
  },
  {
   "cell_type": "code",
   "execution_count": 67,
   "metadata": {},
   "outputs": [
    {
     "data": {
      "text/html": [
       "<div>\n",
       "<style scoped>\n",
       "    .dataframe tbody tr th:only-of-type {\n",
       "        vertical-align: middle;\n",
       "    }\n",
       "\n",
       "    .dataframe tbody tr th {\n",
       "        vertical-align: top;\n",
       "    }\n",
       "\n",
       "    .dataframe thead th {\n",
       "        text-align: right;\n",
       "    }\n",
       "</style>\n",
       "<table border=\"1\" class=\"dataframe\">\n",
       "  <thead>\n",
       "    <tr style=\"text-align: right;\">\n",
       "      <th></th>\n",
       "      <th>drugName</th>\n",
       "      <th>condition</th>\n",
       "      <th>review</th>\n",
       "      <th>rating</th>\n",
       "      <th>usefulCount</th>\n",
       "    </tr>\n",
       "  </thead>\n",
       "  <tbody>\n",
       "    <tr>\n",
       "      <th>0</th>\n",
       "      <td>Valsartan</td>\n",
       "      <td>Left Ventricular Dysfunction</td>\n",
       "      <td>\"It has no side effect, I take it in combinati...</td>\n",
       "      <td>9</td>\n",
       "      <td>27</td>\n",
       "    </tr>\n",
       "    <tr>\n",
       "      <th>1</th>\n",
       "      <td>Guanfacine</td>\n",
       "      <td>ADHD</td>\n",
       "      <td>\"My son is halfway through his fourth week of ...</td>\n",
       "      <td>8</td>\n",
       "      <td>192</td>\n",
       "    </tr>\n",
       "    <tr>\n",
       "      <th>2</th>\n",
       "      <td>Lybrel</td>\n",
       "      <td>Birth Control</td>\n",
       "      <td>\"I used to take another oral contraceptive, wh...</td>\n",
       "      <td>5</td>\n",
       "      <td>17</td>\n",
       "    </tr>\n",
       "    <tr>\n",
       "      <th>3</th>\n",
       "      <td>Ortho Evra</td>\n",
       "      <td>Birth Control</td>\n",
       "      <td>\"This is my first time using any form of birth...</td>\n",
       "      <td>8</td>\n",
       "      <td>10</td>\n",
       "    </tr>\n",
       "    <tr>\n",
       "      <th>4</th>\n",
       "      <td>Buprenorphine / naloxone</td>\n",
       "      <td>Opiate Dependence</td>\n",
       "      <td>\"Suboxone has completely turned my life around...</td>\n",
       "      <td>9</td>\n",
       "      <td>37</td>\n",
       "    </tr>\n",
       "  </tbody>\n",
       "</table>\n",
       "</div>"
      ],
      "text/plain": [
       "                   drugName                     condition  \\\n",
       "0                 Valsartan  Left Ventricular Dysfunction   \n",
       "1                Guanfacine                          ADHD   \n",
       "2                    Lybrel                 Birth Control   \n",
       "3                Ortho Evra                 Birth Control   \n",
       "4  Buprenorphine / naloxone             Opiate Dependence   \n",
       "\n",
       "                                              review  rating  usefulCount  \n",
       "0  \"It has no side effect, I take it in combinati...       9           27  \n",
       "1  \"My son is halfway through his fourth week of ...       8          192  \n",
       "2  \"I used to take another oral contraceptive, wh...       5           17  \n",
       "3  \"This is my first time using any form of birth...       8           10  \n",
       "4  \"Suboxone has completely turned my life around...       9           37  "
      ]
     },
     "execution_count": 67,
     "metadata": {},
     "output_type": "execute_result"
    }
   ],
   "source": [
    "UCIdrug_train_RS = UCIdrug_train.drop(['uniqueID','date'],axis=1)\n",
    "UCIdrug_train_RS.head()"
   ]
  },
  {
   "cell_type": "code",
   "execution_count": 68,
   "metadata": {},
   "outputs": [
    {
     "data": {
      "text/html": [
       "<div>\n",
       "<style scoped>\n",
       "    .dataframe tbody tr th:only-of-type {\n",
       "        vertical-align: middle;\n",
       "    }\n",
       "\n",
       "    .dataframe tbody tr th {\n",
       "        vertical-align: top;\n",
       "    }\n",
       "\n",
       "    .dataframe thead th {\n",
       "        text-align: right;\n",
       "    }\n",
       "</style>\n",
       "<table border=\"1\" class=\"dataframe\">\n",
       "  <thead>\n",
       "    <tr style=\"text-align: right;\">\n",
       "      <th></th>\n",
       "      <th>drugName</th>\n",
       "      <th>condition</th>\n",
       "      <th>review</th>\n",
       "      <th>rating</th>\n",
       "      <th>usefulCount</th>\n",
       "    </tr>\n",
       "  </thead>\n",
       "  <tbody>\n",
       "    <tr>\n",
       "      <th>0</th>\n",
       "      <td>Mirtazapine</td>\n",
       "      <td>Depression</td>\n",
       "      <td>\"I&amp;#039;ve tried a few antidepressants over th...</td>\n",
       "      <td>10</td>\n",
       "      <td>22</td>\n",
       "    </tr>\n",
       "    <tr>\n",
       "      <th>1</th>\n",
       "      <td>Mesalamine</td>\n",
       "      <td>Crohn's Disease, Maintenance</td>\n",
       "      <td>\"My son has Crohn&amp;#039;s disease and has done ...</td>\n",
       "      <td>8</td>\n",
       "      <td>17</td>\n",
       "    </tr>\n",
       "    <tr>\n",
       "      <th>2</th>\n",
       "      <td>Bactrim</td>\n",
       "      <td>Urinary Tract Infection</td>\n",
       "      <td>\"Quick reduction of symptoms\"</td>\n",
       "      <td>9</td>\n",
       "      <td>3</td>\n",
       "    </tr>\n",
       "    <tr>\n",
       "      <th>3</th>\n",
       "      <td>Contrave</td>\n",
       "      <td>Weight Loss</td>\n",
       "      <td>\"Contrave combines drugs that were used for al...</td>\n",
       "      <td>9</td>\n",
       "      <td>35</td>\n",
       "    </tr>\n",
       "    <tr>\n",
       "      <th>4</th>\n",
       "      <td>Cyclafem 1 / 35</td>\n",
       "      <td>Birth Control</td>\n",
       "      <td>\"I have been on this birth control for one cyc...</td>\n",
       "      <td>9</td>\n",
       "      <td>4</td>\n",
       "    </tr>\n",
       "  </tbody>\n",
       "</table>\n",
       "</div>"
      ],
      "text/plain": [
       "          drugName                     condition  \\\n",
       "0      Mirtazapine                    Depression   \n",
       "1       Mesalamine  Crohn's Disease, Maintenance   \n",
       "2          Bactrim       Urinary Tract Infection   \n",
       "3         Contrave                   Weight Loss   \n",
       "4  Cyclafem 1 / 35                 Birth Control   \n",
       "\n",
       "                                              review  rating  usefulCount  \n",
       "0  \"I&#039;ve tried a few antidepressants over th...      10           22  \n",
       "1  \"My son has Crohn&#039;s disease and has done ...       8           17  \n",
       "2                      \"Quick reduction of symptoms\"       9            3  \n",
       "3  \"Contrave combines drugs that were used for al...       9           35  \n",
       "4  \"I have been on this birth control for one cyc...       9            4  "
      ]
     },
     "execution_count": 68,
     "metadata": {},
     "output_type": "execute_result"
    }
   ],
   "source": [
    "UCIdrug_test_RS = UCIdrug_test.drop(['uniqueID','date'],axis=1)\n",
    "UCIdrug_test_RS.head()"
   ]
  },
  {
   "cell_type": "code",
   "execution_count": 69,
   "metadata": {},
   "outputs": [
    {
     "data": {
      "text/html": [
       "<div>\n",
       "<style scoped>\n",
       "    .dataframe tbody tr th:only-of-type {\n",
       "        vertical-align: middle;\n",
       "    }\n",
       "\n",
       "    .dataframe tbody tr th {\n",
       "        vertical-align: top;\n",
       "    }\n",
       "\n",
       "    .dataframe thead th {\n",
       "        text-align: right;\n",
       "    }\n",
       "</style>\n",
       "<table border=\"1\" class=\"dataframe\">\n",
       "  <thead>\n",
       "    <tr style=\"text-align: right;\">\n",
       "      <th></th>\n",
       "      <th>Age</th>\n",
       "      <th>Condition</th>\n",
       "      <th>Drug</th>\n",
       "      <th>DrugId</th>\n",
       "      <th>EaseofUse</th>\n",
       "      <th>Effectiveness</th>\n",
       "      <th>Reviews</th>\n",
       "      <th>Satisfaction</th>\n",
       "      <th>Sex</th>\n",
       "      <th>Sides</th>\n",
       "      <th>UsefulCount</th>\n",
       "    </tr>\n",
       "  </thead>\n",
       "  <tbody>\n",
       "    <tr>\n",
       "      <th>0</th>\n",
       "      <td>75 or over</td>\n",
       "      <td>Stuffy Nose</td>\n",
       "      <td>25dph-7.5peh</td>\n",
       "      <td>146724</td>\n",
       "      <td>5</td>\n",
       "      <td>5</td>\n",
       "      <td>I'm a retired physician and of all the meds I ...</td>\n",
       "      <td>5</td>\n",
       "      <td>Male</td>\n",
       "      <td>Drowsiness,  dizziness ,  dry mouth /nose/thro...</td>\n",
       "      <td>0</td>\n",
       "    </tr>\n",
       "    <tr>\n",
       "      <th>1</th>\n",
       "      <td>25-34</td>\n",
       "      <td>Cold Symptoms</td>\n",
       "      <td>25dph-7.5peh</td>\n",
       "      <td>146724</td>\n",
       "      <td>5</td>\n",
       "      <td>5</td>\n",
       "      <td>cleared me right up even with my throat hurtin...</td>\n",
       "      <td>5</td>\n",
       "      <td>Female</td>\n",
       "      <td>Drowsiness,  dizziness ,  dry mouth /nose/thro...</td>\n",
       "      <td>1</td>\n",
       "    </tr>\n",
       "    <tr>\n",
       "      <th>2</th>\n",
       "      <td>65-74</td>\n",
       "      <td>Other</td>\n",
       "      <td>warfarin (bulk) 100 % powder</td>\n",
       "      <td>144731</td>\n",
       "      <td>2</td>\n",
       "      <td>3</td>\n",
       "      <td>why did my PTINR go from a normal of 2.5 to ov...</td>\n",
       "      <td>3</td>\n",
       "      <td>Female</td>\n",
       "      <td></td>\n",
       "      <td>0</td>\n",
       "    </tr>\n",
       "    <tr>\n",
       "      <th>3</th>\n",
       "      <td>75 or over</td>\n",
       "      <td>Other</td>\n",
       "      <td>warfarin (bulk) 100 % powder</td>\n",
       "      <td>144731</td>\n",
       "      <td>2</td>\n",
       "      <td>2</td>\n",
       "      <td>FALLING AND DON'T REALISE IT</td>\n",
       "      <td>1</td>\n",
       "      <td>Female</td>\n",
       "      <td></td>\n",
       "      <td>0</td>\n",
       "    </tr>\n",
       "    <tr>\n",
       "      <th>4</th>\n",
       "      <td>35-44</td>\n",
       "      <td>Other</td>\n",
       "      <td>warfarin (bulk) 100 % powder</td>\n",
       "      <td>144731</td>\n",
       "      <td>1</td>\n",
       "      <td>1</td>\n",
       "      <td>My grandfather was prescribed this medication ...</td>\n",
       "      <td>1</td>\n",
       "      <td>Male</td>\n",
       "      <td></td>\n",
       "      <td>1</td>\n",
       "    </tr>\n",
       "  </tbody>\n",
       "</table>\n",
       "</div>"
      ],
      "text/plain": [
       "          Age      Condition                          Drug  DrugId  EaseofUse  \\\n",
       "0  75 or over    Stuffy Nose                  25dph-7.5peh  146724          5   \n",
       "1       25-34  Cold Symptoms                  25dph-7.5peh  146724          5   \n",
       "2       65-74          Other  warfarin (bulk) 100 % powder  144731          2   \n",
       "3  75 or over          Other  warfarin (bulk) 100 % powder  144731          2   \n",
       "4       35-44          Other  warfarin (bulk) 100 % powder  144731          1   \n",
       "\n",
       "   Effectiveness                                            Reviews  \\\n",
       "0              5  I'm a retired physician and of all the meds I ...   \n",
       "1              5  cleared me right up even with my throat hurtin...   \n",
       "2              3  why did my PTINR go from a normal of 2.5 to ov...   \n",
       "3              2                       FALLING AND DON'T REALISE IT   \n",
       "4              1  My grandfather was prescribed this medication ...   \n",
       "\n",
       "   Satisfaction     Sex                                              Sides  \\\n",
       "0             5    Male  Drowsiness,  dizziness ,  dry mouth /nose/thro...   \n",
       "1             5  Female  Drowsiness,  dizziness ,  dry mouth /nose/thro...   \n",
       "2             3  Female                                                      \n",
       "3             1  Female                                                      \n",
       "4             1    Male                                                      \n",
       "\n",
       "   UsefulCount  \n",
       "0            0  \n",
       "1            1  \n",
       "2            0  \n",
       "3            0  \n",
       "4            1  "
      ]
     },
     "execution_count": 69,
     "metadata": {},
     "output_type": "execute_result"
    }
   ],
   "source": [
    "webmd_RS = webmd.drop(['Date'],axis=1)\n",
    "webmd_RS.head()"
   ]
  },
  {
   "cell_type": "markdown",
   "metadata": {},
   "source": [
    "Removed the useless values for recommender system. RS = Recommender System."
   ]
  },
  {
   "cell_type": "code",
   "execution_count": 70,
   "metadata": {},
   "outputs": [
    {
     "name": "stdout",
     "output_type": "stream",
     "text": [
      "['Mirtazapine' 'Mesalamine' 'Bactrim' ... 'Guarana' 'Maprotiline'\n",
      " 'FluMist']\n"
     ]
    }
   ],
   "source": [
    "unique_drug_UCItest = UCIdrug_test['drugName'].unique()\n",
    "print(unique_drug_UCItest)"
   ]
  },
  {
   "cell_type": "code",
   "execution_count": 71,
   "metadata": {},
   "outputs": [
    {
     "name": "stdout",
     "output_type": "stream",
     "text": [
      "0\n"
     ]
    }
   ],
   "source": [
    "unique_drug_UCItest = np.unique(unique_drug_UCItest)\n",
    "unique_drug_UCItest_upper = [word.upper() for word in unique_drug_UCItest]\n",
    "countmiss = 0\n",
    "\n",
    "for i in unique_drug_UCItest_upper:\n",
    "    if i not in unique_drug_UCItrain_upper:\n",
    "        countmiss+=1\n",
    "\n",
    "print(countmiss)"
   ]
  },
  {
   "cell_type": "markdown",
   "metadata": {},
   "source": [
    "So what the above cell does, is it sorts all the unique names of the drugs in the three datasets alphabetically. Countmiss shows the number of unique values in UCItest that are not present in UCItrain."
   ]
  },
  {
   "cell_type": "code",
   "execution_count": 111,
   "metadata": {},
   "outputs": [
    {
     "data": {
      "text/html": [
       "<div>\n",
       "<style scoped>\n",
       "    .dataframe tbody tr th:only-of-type {\n",
       "        vertical-align: middle;\n",
       "    }\n",
       "\n",
       "    .dataframe tbody tr th {\n",
       "        vertical-align: top;\n",
       "    }\n",
       "\n",
       "    .dataframe thead th {\n",
       "        text-align: right;\n",
       "    }\n",
       "</style>\n",
       "<table border=\"1\" class=\"dataframe\">\n",
       "  <thead>\n",
       "    <tr style=\"text-align: right;\">\n",
       "      <th></th>\n",
       "      <th>drugName</th>\n",
       "      <th>condition</th>\n",
       "      <th>review</th>\n",
       "      <th>rating</th>\n",
       "      <th>usefulCount</th>\n",
       "    </tr>\n",
       "  </thead>\n",
       "  <tbody>\n",
       "    <tr>\n",
       "      <th>0</th>\n",
       "      <td>Valsartan</td>\n",
       "      <td>Left Ventricular Dysfunction</td>\n",
       "      <td>\"It has no side effect, I take it in combinati...</td>\n",
       "      <td>9</td>\n",
       "      <td>27</td>\n",
       "    </tr>\n",
       "    <tr>\n",
       "      <th>1</th>\n",
       "      <td>Guanfacine</td>\n",
       "      <td>ADHD</td>\n",
       "      <td>\"My son is halfway through his fourth week of ...</td>\n",
       "      <td>8</td>\n",
       "      <td>192</td>\n",
       "    </tr>\n",
       "    <tr>\n",
       "      <th>2</th>\n",
       "      <td>Lybrel</td>\n",
       "      <td>Birth Control</td>\n",
       "      <td>\"I used to take another oral contraceptive, wh...</td>\n",
       "      <td>5</td>\n",
       "      <td>17</td>\n",
       "    </tr>\n",
       "    <tr>\n",
       "      <th>3</th>\n",
       "      <td>Ortho Evra</td>\n",
       "      <td>Birth Control</td>\n",
       "      <td>\"This is my first time using any form of birth...</td>\n",
       "      <td>8</td>\n",
       "      <td>10</td>\n",
       "    </tr>\n",
       "    <tr>\n",
       "      <th>4</th>\n",
       "      <td>Buprenorphine / naloxone</td>\n",
       "      <td>Opiate Dependence</td>\n",
       "      <td>\"Suboxone has completely turned my life around...</td>\n",
       "      <td>9</td>\n",
       "      <td>37</td>\n",
       "    </tr>\n",
       "  </tbody>\n",
       "</table>\n",
       "</div>"
      ],
      "text/plain": [
       "                   drugName                     condition  \\\n",
       "0                 Valsartan  Left Ventricular Dysfunction   \n",
       "1                Guanfacine                          ADHD   \n",
       "2                    Lybrel                 Birth Control   \n",
       "3                Ortho Evra                 Birth Control   \n",
       "4  Buprenorphine / naloxone             Opiate Dependence   \n",
       "\n",
       "                                              review  rating  usefulCount  \n",
       "0  \"It has no side effect, I take it in combinati...       9           27  \n",
       "1  \"My son is halfway through his fourth week of ...       8          192  \n",
       "2  \"I used to take another oral contraceptive, wh...       5           17  \n",
       "3  \"This is my first time using any form of birth...       8           10  \n",
       "4  \"Suboxone has completely turned my life around...       9           37  "
      ]
     },
     "execution_count": 111,
     "metadata": {},
     "output_type": "execute_result"
    }
   ],
   "source": [
    "UCIdrug_train_RS.head()"
   ]
  },
  {
   "cell_type": "code",
   "execution_count": 198,
   "metadata": {},
   "outputs": [
    {
     "name": "stdout",
     "output_type": "stream",
     "text": [
      "3436\n"
     ]
    }
   ],
   "source": [
    "drug_ids = {}\n",
    "idtrk = 0\n",
    "for i in unique_drug_UCItrain:\n",
    "    drug_ids[i] = idtrk\n",
    "    idtrk+=1\n",
    "    \n",
    "#print(drug_ids)\n",
    "print(len(drug_ids))\n",
    "\n",
    "drugid_vals = drug_ids.keys()\n",
    "drugid_vals = [word.upper() for word in drugid_vals]"
   ]
  },
  {
   "cell_type": "markdown",
   "metadata": {},
   "source": [
    "Above we start the process of assigning a unique id to each drug in our datasets. Right now, we put every unique value from the UCITrain column into a disctionary drug_ids. The key is just a counter that starts from 0."
   ]
  },
  {
   "cell_type": "code",
   "execution_count": 261,
   "metadata": {},
   "outputs": [],
   "source": [
    "for i in unique_drug_webmd:\n",
    "    temp = i.split()\n",
    "    dummy_c = 0\n",
    "    for j in temp:\n",
    "        if j.upper() in drugid_vals:\n",
    "            c = 1\n",
    "    if c == 0:\n",
    "        drug_ids[i] = idtrk\n",
    "        idtrk+=1\n",
    "    \n",
    "    c = 0"
   ]
  },
  {
   "cell_type": "markdown",
   "metadata": {},
   "source": [
    "Here we go through the webmd dataset, but since the webmd dataset contains descriptions of drugs, not necessarily just the names, we have to split each item in that data and check if any of the words are already in out drug_ids dictionary. If yes, we don't add them to the dictionary, if not, we do."
   ]
  },
  {
   "cell_type": "code",
   "execution_count": 262,
   "metadata": {},
   "outputs": [
    {
     "name": "stdout",
     "output_type": "stream",
     "text": [
      "                   Drugname  id\n",
      "0                 Valsartan   0\n",
      "1                Guanfacine   1\n",
      "2                    Lybrel   2\n",
      "3                Ortho Evra   3\n",
      "4  Buprenorphine / naloxone   4\n"
     ]
    }
   ],
   "source": [
    "drugcol = list(drug_ids.keys())\n",
    "indexer = [i for i in range(len(drugcol))]\n",
    "drugidtodf = {'Drugname':drugcol,'id':indexer}\n",
    "\n",
    "drugid_df = pd.DataFrame.from_dict(drugidtodf)\n",
    "print(drugid_df.head())"
   ]
  },
  {
   "cell_type": "markdown",
   "metadata": {},
   "source": [
    "Created a new dataframe containing drugids and drugnames."
   ]
  },
  {
   "cell_type": "code",
   "execution_count": 265,
   "metadata": {},
   "outputs": [],
   "source": [
    "drugid_df.to_csv(\"Data\\drugid_df.csv\")"
   ]
  },
  {
   "cell_type": "markdown",
   "metadata": {},
   "source": [
    " "
   ]
  },
  {
   "cell_type": "code",
   "execution_count": 219,
   "metadata": {},
   "outputs": [
    {
     "name": "stdout",
     "output_type": "stream",
     "text": [
      "2</span> users found this comment helpful.\n",
      "4</span> users found this comment helpful.\n",
      "3</span> users found this comment helpful.\n",
      "11</span> users found this comment helpful.\n",
      "0</span> users found this comment helpful.\n",
      "1</span> users found this comment helpful.\n",
      "142</span> users found this comment helpful.\n",
      "8</span> users found this comment helpful.\n",
      "13</span> users found this comment helpful.\n",
      "6</span> users found this comment helpful.\n",
      "94</span> users found this comment helpful.\n",
      "28</span> users found this comment helpful.\n",
      "16</span> users found this comment helpful.\n",
      "27</span> users found this comment helpful.\n",
      "75</span> users found this comment helpful.\n",
      "15</span> users found this comment helpful.\n",
      "12</span> users found this comment helpful.\n",
      "9</span> users found this comment helpful.\n",
      "7</span> users found this comment helpful.\n",
      "35</span> users found this comment helpful.\n",
      "54</span> users found this comment helpful.\n",
      "17</span> users found this comment helpful.\n",
      "79</span> users found this comment helpful.\n",
      "10</span> users found this comment helpful.\n",
      "14</span> users found this comment helpful.\n",
      "5</span> users found this comment helpful.\n",
      "19</span> users found this comment helpful.\n",
      "41</span> users found this comment helpful.\n",
      "23</span> users found this comment helpful.\n",
      "64</span> users found this comment helpful.\n",
      "18</span> users found this comment helpful.\n",
      "146</span> users found this comment helpful.\n",
      "44</span> users found this comment helpful.\n",
      "20</span> users found this comment helpful.\n",
      "21</span> users found this comment helpful.\n",
      "110</span> users found this comment helpful.\n",
      "85</span> users found this comment helpful.\n",
      "46</span> users found this comment helpful.\n",
      "31</span> users found this comment helpful.\n",
      "25</span> users found this comment helpful.\n",
      "32</span> users found this comment helpful.\n",
      "48</span> users found this comment helpful.\n",
      "33</span> users found this comment helpful.\n",
      "22</span> users found this comment helpful.\n",
      "29</span> users found this comment helpful.\n",
      "30</span> users found this comment helpful.\n",
      "63</span> users found this comment helpful.\n",
      "45</span> users found this comment helpful.\n",
      "34</span> users found this comment helpful.\n",
      "55</span> users found this comment helpful.\n",
      "39</span> users found this comment helpful.\n",
      "98</span> users found this comment helpful.\n",
      "24</span> users found this comment helpful.\n",
      "84</span> users found this comment helpful.\n",
      "36</span> users found this comment helpful.\n",
      "40</span> users found this comment helpful.\n",
      "43</span> users found this comment helpful.\n",
      "72</span> users found this comment helpful.\n",
      "26</span> users found this comment helpful.\n",
      "42</span> users found this comment helpful.\n",
      "99</span> users found this comment helpful.\n",
      "123</span> users found this comment helpful.\n",
      "74</span> users found this comment helpful.\n",
      "47</span> users found this comment helpful.\n",
      "76</span> users found this comment helpful.\n",
      "77</span> users found this comment helpful.\n",
      "121</span> users found this comment helpful.\n",
      "95</span> users found this comment helpful.\n",
      "61</span> users found this comment helpful.\n",
      "51</span> users found this comment helpful.\n",
      "145</span> users found this comment helpful.\n",
      "62</span> users found this comment helpful.\n",
      "92</span> users found this comment helpful.\n"
     ]
    }
   ],
   "source": [
    "conditions_UCItrain = np.array(UCIdrug_train_RS['condition'].unique())\n",
    "#print(conditions_UCItrain)\n",
    "to_remove = []\n",
    "for i in range(len(conditions_UCItrain)-1):\n",
    "    temp = str(conditions_UCItrain[i])\n",
    "    temp = temp.split()\n",
    "    if \"comment\" in temp:\n",
    "        print(conditions_UCItrain[i])\n",
    "        to_remove.append(i)\n",
    "        \n",
    "#print(len(conditions_UCItrain))\n",
    "#print(to_remove)\n",
    "\n",
    "conditions_UCItrain_unique = np.delete(conditions_UCItrain,to_remove) \n",
    "#print(conditions_UCItrain_unique)"
   ]
  },
  {
   "cell_type": "markdown",
   "metadata": {},
   "source": [
    "As you can see in the above cells, these values were found in the condition column. These are obviously not conditions, so I'm removing them."
   ]
  },
  {
   "cell_type": "code",
   "execution_count": 240,
   "metadata": {},
   "outputs": [
    {
     "name": "stdout",
     "output_type": "stream",
     "text": [
      "['Stuffy Nose' 'Cold Symptoms' 'Other' ...\n",
      " 'Combative and Explosive Behavior' 'Lead Poisoning'\n",
      " 'Poisoning from Swallowed Unknown Substance']\n",
      "1806\n"
     ]
    }
   ],
   "source": [
    "conditions_Webmd_unique = np.array(webmd_RS['Condition'].unique())\n",
    "print(conditions_Webmd_unique)\n",
    "print(len(conditions_Webmd))"
   ]
  },
  {
   "cell_type": "markdown",
   "metadata": {},
   "source": [
    "Checked for comments in the conditions of webmd, weren't any."
   ]
  },
  {
   "cell_type": "code",
   "execution_count": 250,
   "metadata": {},
   "outputs": [
    {
     "name": "stdout",
     "output_type": "stream",
     "text": [
      "812\n"
     ]
    }
   ],
   "source": [
    "condition_ids = {}\n",
    "idtrk = idtrk + 134452\n",
    "for i in conditions_UCItrain_unique:\n",
    "    condition_ids[i] = idtrk\n",
    "    idtrk+=1\n",
    "    \n",
    "print(len(condition_ids))\n",
    "#print(condition_ids)\n",
    "\n",
    "checker_cond = condition_ids.keys()\n",
    "for i in checker_cond:\n",
    "    i = str(i)\n",
    "    i.upper()"
   ]
  },
  {
   "cell_type": "markdown",
   "metadata": {},
   "source": [
    "Checker_cond is only here to ensure no repeating values."
   ]
  },
  {
   "cell_type": "code",
   "execution_count": 258,
   "metadata": {},
   "outputs": [
    {
     "name": "stdout",
     "output_type": "stream",
     "text": [
      "1806\n"
     ]
    }
   ],
   "source": [
    "for i in conditions_Webmd_unique:\n",
    "    if str(i).upper() not in checker_cond:\n",
    "        condition_ids[i] = idtrk\n",
    "        idtrk+=1\n",
    "        \n",
    "print(len(conditions_Webmd_unique))"
   ]
  },
  {
   "cell_type": "code",
   "execution_count": 259,
   "metadata": {},
   "outputs": [
    {
     "name": "stdout",
     "output_type": "stream",
     "text": [
      "                      Condition      id\n",
      "0  Left Ventricular Dysfunction  137070\n",
      "1                          ADHD  137071\n",
      "2                 Birth Control  139691\n",
      "3             Opiate Dependence  137073\n",
      "4  Benign Prostatic Hyperplasia  137074\n"
     ]
    }
   ],
   "source": [
    "conditioncol = list(condition_ids.keys())\n",
    "indexer = list(condition_ids.values())\n",
    "conditionidtodf = {'Condition':conditioncol,'id':indexer}\n",
    "\n",
    "conditionid_df = pd.DataFrame.from_dict(conditionidtodf)\n",
    "print(conditionid_df.head())"
   ]
  },
  {
   "cell_type": "code",
   "execution_count": 267,
   "metadata": {},
   "outputs": [],
   "source": [
    "conditionid_df.to_csv(\"Data\\conditionid_df.csv\")"
   ]
  },
  {
   "cell_type": "markdown",
   "metadata": {},
   "source": [
    "<h3> RUN THIS CODE AFTER YOU'RE DONE WORKING. IT WILL REMOVE THE BIG .CSV FILES THAT CANNOT BE PUSHED TO GITHUB."
   ]
  },
  {
   "cell_type": "code",
   "execution_count": 268,
   "metadata": {},
   "outputs": [],
   "source": [
    "import os\n",
    "os.remove(\"Data\\drugsComTest_raw.csv\")\n",
    "os.remove(\"Data\\drugsComTrain_raw.csv\")\n",
    "os.remove(\"Data\\webmd.csv\")"
   ]
  }
 ],
 "metadata": {
  "kernelspec": {
   "display_name": "Python 3",
   "language": "python",
   "name": "python3"
  },
  "language_info": {
   "codemirror_mode": {
    "name": "ipython",
    "version": 3
   },
   "file_extension": ".py",
   "mimetype": "text/x-python",
   "name": "python",
   "nbconvert_exporter": "python",
   "pygments_lexer": "ipython3",
   "version": "3.7.3"
  }
 },
 "nbformat": 4,
 "nbformat_minor": 2
}
