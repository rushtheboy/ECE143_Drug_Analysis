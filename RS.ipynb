{
 "cells": [
  {
   "cell_type": "markdown",
   "id": "curious-universe",
   "metadata": {},
   "source": [
    "# Drug Recommender System"
   ]
  },
  {
   "cell_type": "markdown",
   "id": "aboriginal-direction",
   "metadata": {},
   "source": [
    "### DATA PREPROCESSING"
   ]
  },
  {
   "cell_type": "code",
   "execution_count": 19,
   "id": "expected-strand",
   "metadata": {},
   "outputs": [],
   "source": [
    "#import required packages\n",
    "import pandas as pd\n",
    "import numpy as np\n",
    "import utils\n",
    "import json"
   ]
  },
  {
   "cell_type": "code",
   "execution_count": 20,
   "id": "alone-currency",
   "metadata": {},
   "outputs": [],
   "source": [
    "def condition_filter(condition):\n",
    "    if type(condition) != str: return True\n",
    "    if 'comment' in condition: return True\n",
    "    if condition == 'Other': return True\n",
    "    return False\n",
    "\n",
    "def drug_filter(drug):\n",
    "    return False"
   ]
  },
  {
   "cell_type": "code",
   "execution_count": 21,
   "id": "ambient-picnic",
   "metadata": {},
   "outputs": [],
   "source": [
    "uc1_fname = \"Data/drugsComTrain_raw.csv\"\n",
    "uc2_fname = \"Data/drugsComTest_raw.csv\"\n",
    "wb_fname = \"Data/webmd.csv\"\n",
    "uc1 = pd.read_csv(uc1_fname)\n",
    "uc2 = pd.read_csv(uc2_fname)\n",
    "wb = pd.read_csv(wb_fname)\n",
    "\n",
    "condition_set = set()\n",
    "for condition_dataset in [uc1['condition']]:\n",
    "    for condition in condition_dataset:\n",
    "        if condition_filter(condition):continue\n",
    "        condition_set.add(condition)\n",
    "c2id = {} \n",
    "for condition in condition_set:\n",
    "    c2id[condition] = len(c2id)\n",
    "json.dump(c2id, open('Data/c2id.json','w'))\n",
    "\n",
    "drug_set = set()\n",
    "for drug_dataset in [uc1['drugName']]:\n",
    "    for drug in drug_dataset:\n",
    "        if drug_filter(drug):continue\n",
    "        drug_set.add(drug)\n",
    "d2id = {} \n",
    "for drug in drug_set:\n",
    "    d2id[drug] = len(d2id)\n",
    "json.dump(d2id, open('Data/d2id.json','w'))"
   ]
  },
  {
   "cell_type": "markdown",
   "id": "upset-apollo",
   "metadata": {},
   "source": [
    "### RUNNING RECOMMENDER SYSTEM"
   ]
  },
  {
   "cell_type": "code",
   "execution_count": null,
   "id": "wireless-journalism",
   "metadata": {},
   "outputs": [],
   "source": [
    "np.random.seed(0)\n",
    "\n",
    "class RS:\n",
    "    POS_THD = 5.5\n",
    "    def __init__(self, N_condition, N_drug, range_of_compute = 10):\n",
    "        self.N_drug = N_drug\n",
    "        self.N_condition = N_condition\n",
    "        self.rating = np.zeros((N_condition, N_drug))\n",
    "        self.range_of_compute = range_of_compute\n",
    "        self.condition2id = None\n",
    "        self.drug2id = None\n",
    "    \n",
    "    def save_dict(self, condition2id_dict, drug2id_dict):\n",
    "        self.condition2id = condition2id_dict\n",
    "        self.drug2id = drug2id_dict\n",
    "\n",
    "    def train(self, train_data):\n",
    "        count = np.zeros((self.N_condition, self.N_drug))\n",
    "        for k in range(len(train_data)):\n",
    "            i,j,r,c = train_data[k]\n",
    "            c = 1\n",
    "            self.rating[i][j] += (r-self.POS_THD) * c\n",
    "            count[i][j] += c\n",
    "\n",
    "    def eval(self, test_data):\n",
    "        total_score = 0\n",
    "        model_score = 0\n",
    "        for k in range(len(test_data)):\n",
    "            i,j,r,c = test_data[k]\n",
    "            c = 1\n",
    "            total_score += c\n",
    "            posc,negc = self.recommend(i)\n",
    "            if r >= self.POS_THD:\n",
    "                if j in posc:\n",
    "                    model_score += c\n",
    "            else:\n",
    "                if j in negc:\n",
    "                    model_score += c\n",
    "        return model_score / total_score\n",
    "\n",
    "    def recommend(self, condition):\n",
    "        condition_id = condition\n",
    "        array = self.rating[condition_id,:]\n",
    "        order = np.argsort(-array)\n",
    "        pos_choices = order[0:self.range_of_compute]\n",
    "        neg_choices = order[-self.range_of_compute-1:-1]\n",
    "        return [pos_choices, neg_choices]\n",
    "\n",
    "def read_data_csv(dataset_fname):\n",
    "    df = pd.DataFrame(pd.read_csv(dataset_fname))\n",
    "    condition_name = df['condition'].to_numpy()\n",
    "    drug_name = df['drugName'].to_numpy()\n",
    "    rating = df['rating'].to_numpy()\n",
    "    usefulCount = df['usefulCount'].to_numpy()\n",
    "\n",
    "\n",
    "    return [condition_name, drug_name, rating, usefulCount]\n",
    "\n",
    "def build_dataset(data_fname, c2id, d2id):\n",
    "    c,d,r,u = read_data_csv(data_fname)\n",
    "    dataset = []\n",
    "    n = 0\n",
    "    for i in range(len(c)):\n",
    "        if c[i] not in c2id or d[i] not in d2id:\n",
    "            n += 1\n",
    "            continue\n",
    "        dataset.append([c2id[c[i]], d2id[d[i]], r[i], u[i]])\n",
    "    dataset = np.array(dataset)\n",
    "    print(f\"Discard {n} samples in dataset {data_fname}\")\n",
    "    return dataset\n",
    "\n",
    "def case_study(c2id, d2id, train_dataset, test_dataseti, rs):\n",
    "    for cname in ['Post Traumatic Stress Disorde', 'Birth Control',\\\n",
    "                  'Depression', 'Smoking Cessation',\\\n",
    "                  'High Blood Pressure','Acne', 'Anxiety', 'Pain']:\n",
    "        i = c2id[cname]\n",
    "        re_list,_ = rs.recommend(i)\n",
    "        dnames = []\n",
    "        for t in re_list:\n",
    "            for k in d2id:\n",
    "                if d2id[k] == t: dnames.append(k)\n",
    "        print(\"Condition: {}, recommend drugs: {}\\n\".format(cname, dnames))"
   ]
  },
  {
   "cell_type": "code",
   "execution_count": 23,
   "id": "accepted-tonight",
   "metadata": {},
   "outputs": [
    {
     "name": "stdout",
     "output_type": "stream",
     "text": [
      "Discard 1799 samples in dataset Data/drugsComTrain_raw.csv\n",
      "Discard 869 samples in dataset Data/drugsComTest_raw.csv\n",
      "49.53210957143127\n",
      "Condition: Post Traumatic Stress Disorde, recommend drugs: ['Zoloft', 'Sertraline', 'Prazosin', 'Quetiapine', 'Asenapine', 'Desvenlafaxine', 'Lamotrigine', 'Pristiq', 'Saphris', 'Paroxetine']\n",
      "\n",
      "Condition: Birth Control, recommend drugs: ['Levonorgestrel', 'Skyla', 'Mirena', 'Copper', 'Etonogestrel', 'NuvaRing', 'Ethinyl estradiol / etonogestrel', 'Ethinyl estradiol / norgestimate', 'Ethinyl estradiol / levonorgestrel', 'Implanon']\n",
      "\n",
      "Condition: Depression, recommend drugs: ['Bupropion', 'Escitalopram', 'Citalopram', 'Sertraline', 'Desvenlafaxine', 'Pristiq', 'Lexapro', 'Fluoxetine', 'Zoloft', 'Venlafaxine']\n",
      "\n",
      "Condition: Smoking Cessation, recommend drugs: ['Varenicline', 'Chantix', 'Bupropion', 'Nicotine', 'Zyban', 'Nicoderm CQ', 'Commit', 'Nicotrol Inhaler', 'Nicorette', 'Habitrol']\n",
      "\n",
      "Condition: High Blood Pressure, recommend drugs: ['Olmesartan', 'Nebivolol', 'Azor', 'Bystolic', 'Amlodipine / olmesartan', 'Benicar', 'Atenolol', 'Metoprolol', 'Hydrochlorothiazide / losartan', 'Hydrochlorothiazide / lisinopril']\n",
      "\n",
      "Condition: Acne, recommend drugs: ['Isotretinoin', 'Accutane', 'Adapalene / benzoyl peroxide', 'Epiduo', 'Doxycycline', 'Benzoyl peroxide / clindamycin', 'Tretinoin', 'Spironolactone', 'Adapalene', 'Drospirenone / ethinyl estradiol']\n",
      "\n",
      "Condition: Anxiety, recommend drugs: ['Alprazolam', 'Clonazepam', 'Escitalopram', 'Xanax', 'Lexapro', 'Lorazepam', 'Klonopin', 'Diazepam', 'Gabapentin', 'Ativan']\n",
      "\n",
      "Condition: Pain, recommend drugs: ['Oxycodone', 'Acetaminophen / hydrocodone', 'Acetaminophen / oxycodone', 'Hydromorphone', 'Diclofenac', 'Dilaudid', 'OxyContin', 'Percocet', 'Methadone', 'Tramadol']\n",
      "\n"
     ]
    }
   ],
   "source": [
    "train_fname = \"Data/drugsComTrain_raw.csv\"\n",
    "test_fname = \"Data/drugsComTest_raw.csv\"\n",
    "c2id = json.load(open(\"Data/c2id.json\"))\n",
    "d2id = json.load(open(\"Data/d2id.json\"))\n",
    "train_dataset = build_dataset(train_fname, c2id, d2id)\n",
    "test_dataset = build_dataset(test_fname, c2id, d2id)\n",
    "\n",
    "rs = RS(len(c2id), len(d2id))\n",
    "rs.train(train_dataset)\n",
    "performance = rs.eval(test_dataset)\n",
    "print(performance * 100)\n",
    "\n",
    "case_study(c2id, d2id, train_dataset, test_dataset, rs)"
   ]
  }
 ],
 "metadata": {
  "kernelspec": {
   "display_name": "Python 3",
   "language": "python",
   "name": "python3"
  },
  "language_info": {
   "codemirror_mode": {
    "name": "ipython",
    "version": 3
   },
   "file_extension": ".py",
   "mimetype": "text/x-python",
   "name": "python",
   "nbconvert_exporter": "python",
   "pygments_lexer": "ipython3",
   "version": "3.8.2"
  }
 },
 "nbformat": 4,
 "nbformat_minor": 5
}
